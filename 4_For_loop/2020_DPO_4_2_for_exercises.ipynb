{
 "cells": [
  {
   "cell_type": "markdown",
   "metadata": {},
   "source": [
    "Центр непрерывного образования\n",
    "\n",
    "# Программа «Python для автоматизации и анализа данных»\n",
    "\n",
    "Неделя 3 - 1\n",
    "\n",
    "*Ян Пиле, НИУ ВШЭ*  \n"
   ]
  },
  {
   "cell_type": "markdown",
   "metadata": {},
   "source": [
    "## Задачи"
   ]
  },
  {
   "cell_type": "markdown",
   "metadata": {},
   "source": [
    "### Задача 1\n",
    "\n",
    "Дана строка, состоящая из слов. Сделать из нее аббревиатуру с помощью списковых включений\n",
    "\n",
    "**Вход:** \"Комитет Государственной Безопасности\"\n",
    "\n",
    "**Выход:** \"КГБ\""
   ]
  },
  {
   "cell_type": "code",
   "execution_count": 4,
   "metadata": {},
   "outputs": [
    {
     "data": {
      "text/plain": [
       "'КГБ'"
      ]
     },
     "execution_count": 4,
     "metadata": {},
     "output_type": "execute_result"
    }
   ],
   "source": [
    "text = \"Комитет Государственной Безопасности\"\n",
    "\n",
    "#Решение\n",
    "''.join([i[0] for i in text.split()])"
   ]
  },
  {
   "cell_type": "markdown",
   "metadata": {},
   "source": [
    "### Задача 2\n",
    "\n",
    "На вход принимается число N. \n",
    "\n",
    "Выведите на печать следующий паттерн:\n",
    "\n",
    "1\n",
    "\n",
    "1 2\n",
    "\n",
    "1 2 3\n",
    "\n",
    "1 2 3 4\n",
    "\n",
    "...\n",
    "\n",
    "1 ... N\n",
    "\n",
    "**Это не так просто)**"
   ]
  },
  {
   "cell_type": "code",
   "execution_count": 19,
   "metadata": {},
   "outputs": [
    {
     "name": "stdout",
     "output_type": "stream",
     "text": [
      "10\n",
      "1\n",
      "1 2\n",
      "1 2 3\n",
      "1 2 3 4\n",
      "1 2 3 4 5\n",
      "1 2 3 4 5 6\n",
      "1 2 3 4 5 6 7\n",
      "1 2 3 4 5 6 7 8\n",
      "1 2 3 4 5 6 7 8 9\n",
      "1 2 3 4 5 6 7 8 9 10\n"
     ]
    }
   ],
   "source": [
    "N = int(input())\n",
    "for i in range(1,N+1):\n",
    "    print(' '.join(map(str,list(range(1,i+1)))))"
   ]
  },
  {
   "cell_type": "markdown",
   "metadata": {},
   "source": [
    "### Задача 3\n",
    "\n",
    "Дана строка. Замените в ней все буквы А на # с помощью спискового включения.\n"
   ]
  },
  {
   "cell_type": "code",
   "execution_count": 20,
   "metadata": {},
   "outputs": [
    {
     "name": "stdout",
     "output_type": "stream",
     "text": [
      "#Б#ЖУР, #Б#ЗИНСКИЙ, #Б#ЗИНЫ, #ББ#Т, #ББ#ТИС#, #ББ#ТСТВО\n"
     ]
    }
   ],
   "source": [
    "phrase = \"АБАЖУР, АБАЗИНСКИЙ, АБАЗИНЫ, АББАТ, АББАТИСА, АББАТСТВО\"\n",
    "print(''.join([letter if letter != 'А' else '#' for letter in phrase]))"
   ]
  },
  {
   "cell_type": "markdown",
   "metadata": {},
   "source": [
    "### Задача 4\n",
    "\n",
    "В математике существует так называемая последовательность чисел Фибоначчи. Выглядит она так: 1, 1, 2, 3, 5, 8, 13, ...\n",
    "\n",
    "Каждое последующее число равно сумме двух предыдущих, а первые два числа Фибоначчи - две единицы.\n",
    "Запросите с клавиатуры число N и запишите в список первые N чисел Фибоначчи."
   ]
  },
  {
   "cell_type": "code",
   "execution_count": 23,
   "metadata": {},
   "outputs": [
    {
     "name": "stdout",
     "output_type": "stream",
     "text": [
      "Сколько чисел Фибоначчи нужно сгенерировать? 15\n",
      "[1, 1, 2, 3, 5, 8, 13, 21, 34, 55, 89, 144, 233, 377, 610]\n"
     ]
    }
   ],
   "source": [
    "count = int(input(\"Сколько чисел Фибоначчи нужно сгенерировать? \"))\n",
    "i = 1\n",
    "if count == 0:\n",
    "    fib = []\n",
    "elif count == 1:\n",
    "    fib = [1]\n",
    "elif count == 2:\n",
    "    fib = [1,1]\n",
    "elif count > 2:\n",
    "    fib = [1,1]\n",
    "    while i < (count - 1):\n",
    "        fib.append(fib[i] + fib[i-1])\n",
    "        i += 1\n",
    "print(fib)"
   ]
  },
  {
   "cell_type": "markdown",
   "metadata": {},
   "source": [
    "### Задача 5 Подсчет слов\n",
    "Давайте теперь поработаем с настоящим файлом и действительно посчитаем в нем слова. Мы загрузим метаданные почтового сервера университета Мичигана. И попробуем найти, с какого адреса ушло больше всего писем."
   ]
  },
  {
   "cell_type": "code",
   "execution_count": 24,
   "metadata": {},
   "outputs": [
    {
     "name": "stdout",
     "output_type": "stream",
     "text": [
      "{'aaronz@vt.edu': 110, 'hu2@iupui.edu': 7, 'kimsooil@bu.edu': 14, 'gjthomas@iupui.edu': 44, 'ray@media.berkeley.edu': 32, 'bkirschn@umich.edu': 27, 'jlrenfro@ucdavis.edu': 1, 'wagnermr@iupui.edu': 44, 'ostermmg@whitman.edu': 17, 'chmaurer@iupui.edu': 111, 'gbhatnag@umich.edu': 3, 'josrodri@iupui.edu': 28, 'zach.thomas@txstate.edu': 17, 'lance@indiana.edu': 8, 'antranig@caret.cam.ac.uk': 18, 'john.ellis@rsmart.com': 8, 'arwhyte@umich.edu': 27, 'ktsao@stanford.edu': 12, 'stuart.freeman@et.gatech.edu': 17, 'jleasia@umich.edu': 2, 'jimeng@umich.edu': 93, 'cwen@iupui.edu': 158, 'stephen.marquard@uct.ac.za': 29, 'david.horwitz@uct.ac.za': 67, 'sgithens@caret.cam.ac.uk': 43, 'jzaremba@unicon.net': 9, 'tnguyen@iupui.edu': 6, 'thoppaymallika@fhda.edu': 1, 'zqian@umich.edu': 195, 'mbreuker@loi.nl': 9, 'ian@caret.cam.ac.uk': 96, 'rjlowe@iupui.edu': 90, 'ggolden@umich.edu': 8, 'bahollad@indiana.edu': 4, 'ssmail@indiana.edu': 5, 'knoop@umich.edu': 5, 'a.fish@lancaster.ac.uk': 14, 'louis@media.berkeley.edu': 24, 'ajpoland@iupui.edu': 48, 'nuno@ufp.pt': 28, 'colin.clark@utoronto.ca': 1, 'dlhaines@umich.edu': 84, 'gsilver@umich.edu': 28, 'gopal.ramasammycook@gmail.com': 25, 'mmmay@indiana.edu': 161, 'csev@umich.edu': 19}\n"
     ]
    }
   ],
   "source": [
    "# импортируем библиотеку для доступа к файлам в интернете\n",
    "import requests\n",
    "# в переменной mbox хранится текст для работы\n",
    "mbox = requests.get('http://www.py4inf.com/code/mbox.txt').text\n",
    "\n",
    "# преобразуем наш текст в список, где каждый объект - это новая строка в файле\n",
    "all_lines = mbox.split('\\n')\n",
    "all_lines[:5]\n",
    "\n",
    "# собираем список всех email\n",
    "emails = []\n",
    "for line in all_lines:\n",
    "    if line.startswith('From '):\n",
    "        emails.append(line.split()[1])\n",
    "        \n",
    "emails_set = set(emails) # альтернативно считаем слова, создаем множество уникальных почтовых адресов\n",
    "emails_dict = {}\n",
    "for email in emails_set:\n",
    "    emails_dict[email] = emails.count(email) # для каждого почтового адреса считаем, сколько раз он встречается с помощью метода списка\n",
    "\n",
    "print(emails_dict)"
   ]
  },
  {
   "cell_type": "code",
   "execution_count": 26,
   "metadata": {},
   "outputs": [
    {
     "name": "stdout",
     "output_type": "stream",
     "text": [
      "Max value is 195 for zqian@umich.edu\n"
     ]
    }
   ],
   "source": [
    "# будем считать, что по умолчанию максимальное значение равно одному, потому что в наших словарях\n",
    "# каждое слово встречается минимум 1 раз\n",
    "\n",
    "max_value = 1\n",
    "\n",
    "# значение максимальное ключа мы пока не знаем, поэтому создаем пустую переменную\n",
    "max_key = None\n",
    "\n",
    "for key, value in emails_dict.items():  # итерируемся по парам ключ-значение\n",
    "    if value > max_value:  # проверяем, больше ли значение, чем максимум\n",
    "        max_key = key  # обновляем ключ, если да\n",
    "        max_value = value  # обновляем значение\n",
    "if max_value == 1:  # если нет ни одного значения больше одного, давайте выведем эту информацию\n",
    "    print('No max value, all 1')\n",
    "else:\n",
    "    print('Max value is', max_value, 'for', max_key)"
   ]
  },
  {
   "cell_type": "markdown",
   "metadata": {},
   "source": [
    "### Задача 6 Посчитать среднюю метрику X-DSPAM-Confidence для письма. \n",
    "### (Кажется, это что-то похожее на вероятность того, что письмо - не спам)\n",
    "\n",
    "Давайте воспользуемся предыдущим кодом и достанем те строчки, где эта метрика записана:"
   ]
  },
  {
   "cell_type": "code",
   "execution_count": 41,
   "metadata": {},
   "outputs": [
    {
     "data": {
      "text/plain": [
       "0.0002951585976627713"
      ]
     },
     "execution_count": 41,
     "metadata": {},
     "output_type": "execute_result"
    }
   ],
   "source": [
    "# импортируем библиотеку для доступа к файлам в интернете\n",
    "import requests\n",
    "# в переменной mbox хранится текст для работы\n",
    "mbox = requests.get('http://www.py4inf.com/code/mbox.txt').text\n",
    "\n",
    "# преобразуем наш текст в список, где каждый объект - это новая строка в файле\n",
    "all_lines = mbox.split('\\n')\n",
    "all_lines[:5]\n",
    "\n",
    "# собираем список всех значений Confidence\n",
    "Confidence = []\n",
    "for line in all_lines:\n",
    "    if line.startswith('X-DSPAM-Confidence:'):\n",
    "        Confidence.append(line.split()[1])\n",
    "        \n",
    "min(map(float,Confidence))/len(Confidence)"
   ]
  },
  {
   "cell_type": "markdown",
   "metadata": {},
   "source": [
    "### Задача 7 Объединение словарей\n",
    "\n",
    "Напишите программу, которая объединяет значения из двух списков.\n",
    "\n",
    "Ввод:\n",
    "\n",
    "    shops = [{'товар': 'яблоки', 'количество': 400}, {'товар': 'конфеты', 'количество': 300}, {'товар': 'яблоки', 'количество': 750}]\n",
    "\n",
    "\n",
    "Вывод:\n",
    "\n",
    "    {'яблоки': 1150, 'конфеты': 300}"
   ]
  },
  {
   "cell_type": "code",
   "execution_count": 27,
   "metadata": {},
   "outputs": [],
   "source": [
    "shops = [{'товар': 'яблоки', 'количество': 400}, \n",
    "         {'товар': 'конфеты', 'количество': 300}, \n",
    "         {'товар': 'яблоки', 'количество': 750}]"
   ]
  },
  {
   "cell_type": "code",
   "execution_count": 36,
   "metadata": {},
   "outputs": [
    {
     "name": "stdout",
     "output_type": "stream",
     "text": [
      "{'яблоки': 1150, 'конфеты': 300}\n"
     ]
    }
   ],
   "source": [
    "res = {}\n",
    "\n",
    "for record in shops:\n",
    "    res[record['товар']] = res.get(record['товар'],0) + record['количество']\n",
    "    \n",
    "print(res)"
   ]
  },
  {
   "cell_type": "markdown",
   "metadata": {},
   "source": [
    "### Задача 8 Найти все числа от 1000 до 3000 включительно, все цифры которых четные.\n",
    "\n",
    "Программа должна выдавать результат в виде разделенной запятыми строки"
   ]
  },
  {
   "cell_type": "code",
   "execution_count": 43,
   "metadata": {},
   "outputs": [
    {
     "name": "stdout",
     "output_type": "stream",
     "text": [
      "2000,2002,2004,2006,2008,2020,2022,2024,2026,2028,2040,2042,2044,2046,2048,2060,2062,2064,2066,2068,2080,2082,2084,2086,2088,2200,2202,2204,2206,2208,2220,2222,2224,2226,2228,2240,2242,2244,2246,2248,2260,2262,2264,2266,2268,2280,2282,2284,2286,2288,2400,2402,2404,2406,2408,2420,2422,2424,2426,2428,2440,2442,2444,2446,2448,2460,2462,2464,2466,2468,2480,2482,2484,2486,2488,2600,2602,2604,2606,2608,2620,2622,2624,2626,2628,2640,2642,2644,2646,2648,2660,2662,2664,2666,2668,2680,2682,2684,2686,2688,2800,2802,2804,2806,2808,2820,2822,2824,2826,2828,2840,2842,2844,2846,2848,2860,2862,2864,2866,2868,2880,2882,2884,2886,2888\n"
     ]
    }
   ],
   "source": [
    "values = []\n",
    "for i in range(1000, 3001):\n",
    "    s = str(i)\n",
    "    if (int(s[0])%2==0) and (int(s[1])%2==0) and (int(s[2])%2==0) and (int(s[3])%2==0):\n",
    "        values.append(s)\n",
    "print(\",\".join(values))"
   ]
  },
  {
   "cell_type": "markdown",
   "metadata": {},
   "source": [
    "### Задача 9 Найти количество цифр и количество букв в строке\n",
    "\n",
    "Вход: \"абвгд 234\"\n",
    "\n",
    "\n",
    "Выход:\n",
    "\n",
    "    Цифры: 3\n",
    "    Буквы: 5"
   ]
  },
  {
   "cell_type": "code",
   "execution_count": 46,
   "metadata": {},
   "outputs": [
    {
     "name": "stdout",
     "output_type": "stream",
     "text": [
      "вапрвлыплф 1234\n",
      "Цифры: 4\n",
      "Буквы: 10\n"
     ]
    }
   ],
   "source": [
    "s = input()\n",
    "d = {\"Цифры\":0, \"Буквы\":0}\n",
    "for c in s:\n",
    "    if c.isdigit():\n",
    "        d[\"Цифры\"]+=1\n",
    "    elif c.isalpha():\n",
    "        d[\"Буквы\"]+=1\n",
    "print(\"Цифры:\", d[\"Цифры\"])\n",
    "print(\"Буквы:\", d[\"Буквы\"]) "
   ]
  },
  {
   "cell_type": "markdown",
   "metadata": {},
   "source": [
    "### Задача 10 Найти частоту слов в строке. Строка вводится с клавиатуры, допустим, она разделена пробелами\n",
    "\n",
    "Вход: \"Я не кидал никого никогда\"\n",
    "\n",
    "\n",
    "Выход:\n",
    "\n",
    "    Я:1\n",
    "    не:1\n",
    "    кидал:1\n",
    "    никого:1\n",
    "    никогда:1"
   ]
  },
  {
   "cell_type": "code",
   "execution_count": 48,
   "metadata": {},
   "outputs": [
    {
     "name": "stdout",
     "output_type": "stream",
     "text": [
      "Я не кидал никого никогда, Я говорил только \"да\"\n",
      "Я:2\n",
      "не:1\n",
      "кидал:1\n",
      "никого:1\n",
      "никогда,:1\n",
      "говорил:1\n",
      "только:1\n",
      "\"да\":1\n"
     ]
    }
   ],
   "source": [
    "freq = {}   # frequency of words in text\n",
    "line = input()\n",
    "\n",
    "for word in line.split():\n",
    "    freq[word] = freq.get(word,0)+1\n",
    "\n",
    "words = freq.keys()\n",
    "\n",
    "for w in words:\n",
    "    print(\"%s:%d\" % (w,freq[w]))"
   ]
  },
  {
   "cell_type": "markdown",
   "metadata": {},
   "source": [
    "### Задача 11 Дан массив из чисел. Отсортируйте его, не используя встроенных функций. (циклами for, например). Ожидаю получить сортировку пузырьком)\n",
    "\n",
    "Вход: На вход дана последовательность из N случайных чисел. Например [48, 59, 9, 90, 15, 58, 19, 49, 13, 7]\n",
    "\n",
    "\n",
    "Выход:\n",
    "\n",
    "    Отсортированная последовательность [7, 9, 13, 15, 19, 48, 49, 58, 59, 90]"
   ]
  },
  {
   "cell_type": "code",
   "execution_count": 53,
   "metadata": {},
   "outputs": [
    {
     "name": "stdout",
     "output_type": "stream",
     "text": [
      "[35, 98, 98, 67, 56, 42, 37, 48, 7, 39]\n"
     ]
    }
   ],
   "source": [
    "from random import randint\n",
    " \n",
    "N = 10\n",
    "a = []\n",
    "for i in range(N):\n",
    "    a.append(randint(1, 99))\n",
    "print(a)"
   ]
  },
  {
   "cell_type": "code",
   "execution_count": 54,
   "metadata": {},
   "outputs": [
    {
     "data": {
      "text/plain": [
       "[7, 35, 37, 39, 42, 48, 56, 67, 98, 98]"
      ]
     },
     "execution_count": 54,
     "metadata": {},
     "output_type": "execute_result"
    }
   ],
   "source": [
    "for i in range(N-1):\n",
    "    for j in range(N-1-i):\n",
    "        if a[j]>a[j+1]:\n",
    "            a[j], a[j+1] = a[j+1], a[j]\n",
    "a"
   ]
  },
  {
   "cell_type": "markdown",
   "metadata": {},
   "source": [
    "### Задача 12 Про Поросёнка Петра\n",
    "\n",
    "На плоскости в точке (0,0) стоит Поросёнок Пётр. Он умеет ходить налево, направо, вверх и вниз. Расстояние его прохода в какую-либо сторону измеряется в шагах. Когда он идет вправо, его первая координата увеличивается, когда влево - уменьшается. Когда он идет вверх, его вторая координата увеличивается, а когда вниз - уменьшается. \n",
    "\n",
    "С клавиатуры считывается число N - число ходов, которые сделает Пётр. После чего на каждом шаге спрашивается, сколько шагов и в какую сторону за этот ход Пётр сделает. Так происходит, пока Пётр не осуществит все N ходов.\n",
    "\n",
    "Программа должна вывести, сколько шагов Пётр должен был бы сделать, чтобы кратчайшим путем прибыть из свое начальной точки (0,0) в свою конечную точку. Напоминание: Пётр умеет ходить только вверх-вниз, и влево-вправо, но не по диагонали.\n",
    "\n",
    "Пример ввода: \n",
    "\n",
    "    Введите N: 3\n",
    "    Ход 1: Вверх 1\n",
    "    Ход 2: Вниз 1\n",
    "    Ход 3: Вверх 1\n",
    "    \n",
    "Пример вывода:\n",
    "\n",
    "    Пётр находится на расстоянии 1 от (0,0)"
   ]
  },
  {
   "cell_type": "code",
   "execution_count": 59,
   "metadata": {},
   "outputs": [
    {
     "name": "stdout",
     "output_type": "stream",
     "text": [
      "Введите число ходов:3\n",
      "Ход 1:вверх 1\n",
      "Ход 2:вправо 2\n",
      "Ход 3:вниз 1\n",
      "Пётр находится на расстоянии 2 от (0,0)\n"
     ]
    }
   ],
   "source": [
    "import re\n",
    "\n",
    "N = int(input('Введите число ходов:'))\n",
    "x = 0\n",
    "y = 0\n",
    "for i in range(N):\n",
    "    step = input(f'Ход {i+1}:').lower()\n",
    "    step_num = int(re.search(r'\\d+', step).group(0))\n",
    "    if 'вверх' in step:\n",
    "        x+=step_num\n",
    "    elif 'вниз' in step:\n",
    "        x-=step_num\n",
    "    elif 'влево' in step:\n",
    "        y-=step_num\n",
    "    else :\n",
    "        y+=step_num\n",
    "\n",
    "print(f'Пётр находится на расстоянии {x+y} от (0,0)')\n"
   ]
  },
  {
   "cell_type": "code",
   "execution_count": null,
   "metadata": {},
   "outputs": [],
   "source": []
  }
 ],
 "metadata": {
  "kernelspec": {
   "display_name": "Python 3",
   "language": "python",
   "name": "python3"
  },
  "language_info": {
   "codemirror_mode": {
    "name": "ipython",
    "version": 3
   },
   "file_extension": ".py",
   "mimetype": "text/x-python",
   "name": "python",
   "nbconvert_exporter": "python",
   "pygments_lexer": "ipython3",
   "version": "3.7.4"
  }
 },
 "nbformat": 4,
 "nbformat_minor": 2
}
